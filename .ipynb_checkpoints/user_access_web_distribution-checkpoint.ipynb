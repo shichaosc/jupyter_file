{
 "cells": [
  {
   "cell_type": "markdown",
   "metadata": {},
   "source": [
    "## 上课时间分布"
   ]
  },
  {
   "cell_type": "markdown",
   "metadata": {},
   "source": [
    "### 导入需要的包"
   ]
  },
  {
   "cell_type": "code",
   "execution_count": 58,
   "metadata": {},
   "outputs": [
    {
     "name": "stdout",
     "output_type": "stream",
     "text": [
      "123\n"
     ]
    }
   ],
   "source": [
    "print(123)"
   ]
  },
  {
   "cell_type": "code",
   "execution_count": 2,
   "metadata": {},
   "outputs": [],
   "source": [
    "import pymysql\n",
    "import pandas as pd\n",
    "from datetime import datetime\n",
    "import aiomysql"
   ]
  },
  {
   "cell_type": "markdown",
   "metadata": {},
   "source": [
    "### 连接数据库"
   ]
  },
  {
   "cell_type": "code",
   "execution_count": 3,
   "metadata": {},
   "outputs": [],
   "source": [
    "def data_out_sql(sql):\n",
    "    #conn = pymysql.connect(host=DB['host'], port=DB['port'], user=DB['user'], passwd=DB['password'], db=DB['dbname'],charset='utf8')\n",
    "#     conn = pymysql.connect(user='lingoace', password='DB4lingo.com', database='data_analysis')\n",
    "    # 使用异步连接mysql\n",
    "    conn = pymysql.connect(user='lingoace', password='DB4lingo.com', database='data_analysis')\n",
    "\n",
    "    # 创建游标\n",
    "    cursor = conn.cursor()\n",
    "    # 执行sql语句\n",
    "    try:\n",
    "        cursor.execute(sql)\n",
    "        # 调出数据\n",
    "        data = cursor.fetchall()\n",
    "    # cols为字段信息 例如(('factory_id', 253, None, 6, 6, 0, False), ('szDeviceId', 253, None, 30, 30, 0, False),('update_time', 7, None, 19, 19, 0, False))\n",
    "    except Exception as e:\n",
    "        print('select sql error, err={}'.format(e))\n",
    "    cols = cursor.description\n",
    "    # 执行\n",
    "    conn.commit()\n",
    "    conn.close()\n",
    "    # 将数据truple转换为DataFrame\n",
    "    col = []\n",
    "    for i in cols:\n",
    "        col.append(i[0])\n",
    "    data = list(map(list, data))\n",
    "    data = pd.DataFrame(data,columns=col)\n",
    "\n",
    "    #print(data)\n",
    "    return data"
   ]
  },
  {
   "cell_type": "markdown",
   "metadata": {},
   "source": [
    "### 数据转储cvs配置"
   ]
  },
  {
   "cell_type": "code",
   "execution_count": 4,
   "metadata": {},
   "outputs": [],
   "source": [
    "#常用数据存放目录\n",
    "catelog='./data/'\n",
    "#临时数据存放目录\n",
    "tempData='./temp/'\n",
    "#数据库数据数据定义\n",
    "Database='lingoacedb'\n",
    "\n",
    "def data_to_csv(df, name):\n",
    "    \n",
    "    catelog='./data/'\n",
    "\n",
    "    name_suffix = datetime.now().strftime('%Y%m%d')\n",
    "    \n",
    "    df.to_csv('%s%s%s.csv' % (catelog, name, name_suffix), encoding='utf_8_sig')\n",
    "    "
   ]
  },
  {
   "cell_type": "code",
   "execution_count": 5,
   "metadata": {},
   "outputs": [
    {
     "data": {
      "text/html": [
       "<div>\n",
       "<style scoped>\n",
       "    .dataframe tbody tr th:only-of-type {\n",
       "        vertical-align: middle;\n",
       "    }\n",
       "\n",
       "    .dataframe tbody tr th {\n",
       "        vertical-align: top;\n",
       "    }\n",
       "\n",
       "    .dataframe thead th {\n",
       "        text-align: right;\n",
       "    }\n",
       "</style>\n",
       "<table border=\"1\" class=\"dataframe\">\n",
       "  <thead>\n",
       "    <tr style=\"text-align: right;\">\n",
       "      <th></th>\n",
       "      <th>month</th>\n",
       "      <th>week</th>\n",
       "      <th>hour</th>\n",
       "      <th>access_count</th>\n",
       "    </tr>\n",
       "  </thead>\n",
       "  <tbody>\n",
       "    <tr>\n",
       "      <th>0</th>\n",
       "      <td>4</td>\n",
       "      <td>Wednesday</td>\n",
       "      <td>23</td>\n",
       "      <td>7</td>\n",
       "    </tr>\n",
       "    <tr>\n",
       "      <th>1</th>\n",
       "      <td>4</td>\n",
       "      <td>Wednesday</td>\n",
       "      <td>22</td>\n",
       "      <td>27</td>\n",
       "    </tr>\n",
       "    <tr>\n",
       "      <th>2</th>\n",
       "      <td>4</td>\n",
       "      <td>Wednesday</td>\n",
       "      <td>21</td>\n",
       "      <td>39</td>\n",
       "    </tr>\n",
       "    <tr>\n",
       "      <th>3</th>\n",
       "      <td>4</td>\n",
       "      <td>Wednesday</td>\n",
       "      <td>20</td>\n",
       "      <td>32</td>\n",
       "    </tr>\n",
       "    <tr>\n",
       "      <th>4</th>\n",
       "      <td>4</td>\n",
       "      <td>Wednesday</td>\n",
       "      <td>19</td>\n",
       "      <td>36</td>\n",
       "    </tr>\n",
       "  </tbody>\n",
       "</table>\n",
       "</div>"
      ],
      "text/plain": [
       "   month       week  hour  access_count\n",
       "0      4  Wednesday    23             7\n",
       "1      4  Wednesday    22            27\n",
       "2      4  Wednesday    21            39\n",
       "3      4  Wednesday    20            32\n",
       "4      4  Wednesday    19            36"
      ]
     },
     "execution_count": 5,
     "metadata": {},
     "output_type": "execute_result"
    }
   ],
   "source": [
    "user_enter_class_sql = '''select \n",
    "    MONTH(CONVERT_TZ(svm.enter_time, '+00:00', '+08:00')) as month, \n",
    "    DATE_FORMAT(CONVERT_TZ(svm.enter_time, '+00:00', '+08:00'), '%W') as week, \n",
    "    HOUR(CONVERT_TZ(svm.enter_time, '+00:00', '+08:00')) as hour, \n",
    "    count(*) as access_count\n",
    "from schedule_virtualclass_member svm \n",
    "where svm.enter_time is not null and YEAR(CONVERT_TZ(svm.enter_time, '+00:00', '+08:00'))=2020\n",
    "group by DATE_FORMAT(CONVERT_TZ(svm.enter_time, '+00:00', '+08:00'), '%W'), \n",
    "         HOUR(CONVERT_TZ(svm.enter_time, '+00:00', '+08:00')), \n",
    "         MONTH(CONVERT_TZ(svm.enter_time, '+00:00', '+08:00'))\n",
    "order by  MONTH(CONVERT_TZ(svm.enter_time, '+00:00', '+08:00')) desc, \n",
    "          DATE_FORMAT(CONVERT_TZ(svm.enter_time, '+00:00', '+08:00'), '%W') desc, \n",
    "          HOUR(CONVERT_TZ(svm.enter_time, '+00:00', '+08:00')) desc'''\n",
    "access_data= data_out_sql(user_enter_class_sql)\n",
    "# access_data.describe()\n",
    "data_to_csv(access_data,'useraccess')\n",
    "access_data.head()"
   ]
  },
  {
   "cell_type": "markdown",
   "metadata": {},
   "source": [
    "### 数据可视化"
   ]
  },
  {
   "cell_type": "code",
   "execution_count": 6,
   "metadata": {},
   "outputs": [],
   "source": [
    "import altair as alt"
   ]
  },
  {
   "cell_type": "code",
   "execution_count": 7,
   "metadata": {},
   "outputs": [
    {
     "data": {
      "text/html": [
       "\n",
       "<div id=\"altair-viz-ef13fbe443fc43ce947dfb5ffd7da3c9\"></div>\n",
       "<script type=\"text/javascript\">\n",
       "  (function(spec, embedOpt){\n",
       "    const outputDiv = document.getElementById(\"altair-viz-ef13fbe443fc43ce947dfb5ffd7da3c9\");\n",
       "    const paths = {\n",
       "      \"vega\": \"https://cdn.jsdelivr.net/npm//vega@5?noext\",\n",
       "      \"vega-lib\": \"https://cdn.jsdelivr.net/npm//vega-lib?noext\",\n",
       "      \"vega-lite\": \"https://cdn.jsdelivr.net/npm//vega-lite@4.0.2?noext\",\n",
       "      \"vega-embed\": \"https://cdn.jsdelivr.net/npm//vega-embed@6?noext\",\n",
       "    };\n",
       "\n",
       "    function loadScript(lib) {\n",
       "      return new Promise(function(resolve, reject) {\n",
       "        var s = document.createElement('script');\n",
       "        s.src = paths[lib];\n",
       "        s.async = true;\n",
       "        s.onload = () => resolve(paths[lib]);\n",
       "        s.onerror = () => reject(`Error loading script: ${paths[lib]}`);\n",
       "        document.getElementsByTagName(\"head\")[0].appendChild(s);\n",
       "      });\n",
       "    }\n",
       "\n",
       "    function showError(err) {\n",
       "      outputDiv.innerHTML = `<div class=\"error\" style=\"color:red;\">${err}</div>`;\n",
       "      throw err;\n",
       "    }\n",
       "\n",
       "    function displayChart(vegaEmbed) {\n",
       "      vegaEmbed(outputDiv, spec, embedOpt)\n",
       "        .catch(err => showError(`Javascript Error: ${err.message}<br>This usually means there's a typo in your chart specification. See the javascript console for the full traceback.`));\n",
       "    }\n",
       "\n",
       "    if(typeof define === \"function\" && define.amd) {\n",
       "      requirejs.config({paths});\n",
       "      require([\"vega-embed\"], displayChart, err => showError(`Error loading script: ${err.message}`));\n",
       "    } else if (typeof vegaEmbed === \"function\") {\n",
       "      displayChart(vegaEmbed);\n",
       "    } else {\n",
       "      loadScript(\"vega\")\n",
       "        .then(() => loadScript(\"vega-lite\"))\n",
       "        .then(() => loadScript(\"vega-embed\"))\n",
       "        .catch(showError)\n",
       "        .then(() => displayChart(vegaEmbed));\n",
       "    }\n",
       "  })({\"config\": {\"view\": {\"continuousWidth\": 400, \"continuousHeight\": 300}}, \"data\": {\"name\": \"data-61179c9c1a63f20863642d29622876ac\"}, \"mark\": {\"type\": \"line\", \"color\": \"red\", \"point\": true}, \"encoding\": {\"color\": {\"type\": \"nominal\", \"field\": \"week\"}, \"column\": {\"type\": \"quantitative\", \"field\": \"month\"}, \"x\": {\"type\": \"quantitative\", \"field\": \"hour\"}, \"y\": {\"type\": \"quantitative\", \"field\": \"access_count\"}}, \"width\": 800, \"$schema\": \"https://vega.github.io/schema/vega-lite/v4.0.2.json\", \"datasets\": {\"data-61179c9c1a63f20863642d29622876ac\": [{\"month\": 4, \"week\": \"Wednesday\", \"hour\": 23, \"access_count\": 7}, {\"month\": 4, \"week\": \"Wednesday\", \"hour\": 22, \"access_count\": 27}, {\"month\": 4, \"week\": \"Wednesday\", \"hour\": 21, \"access_count\": 39}, {\"month\": 4, \"week\": \"Wednesday\", \"hour\": 20, \"access_count\": 32}, {\"month\": 4, \"week\": \"Wednesday\", \"hour\": 19, \"access_count\": 36}, {\"month\": 4, \"week\": \"Wednesday\", \"hour\": 18, \"access_count\": 38}, {\"month\": 4, \"week\": \"Wednesday\", \"hour\": 17, \"access_count\": 40}, {\"month\": 4, \"week\": \"Wednesday\", \"hour\": 16, \"access_count\": 41}, {\"month\": 4, \"week\": \"Wednesday\", \"hour\": 15, \"access_count\": 52}, {\"month\": 4, \"week\": \"Wednesday\", \"hour\": 14, \"access_count\": 74}, {\"month\": 4, \"week\": \"Wednesday\", \"hour\": 13, \"access_count\": 26}, {\"month\": 4, \"week\": \"Wednesday\", \"hour\": 12, \"access_count\": 24}, {\"month\": 4, \"week\": \"Wednesday\", \"hour\": 11, \"access_count\": 36}, {\"month\": 4, \"week\": \"Wednesday\", \"hour\": 10, \"access_count\": 67}, {\"month\": 4, \"week\": \"Wednesday\", \"hour\": 9, \"access_count\": 63}, {\"month\": 4, \"week\": \"Wednesday\", \"hour\": 8, \"access_count\": 72}, {\"month\": 4, \"week\": \"Wednesday\", \"hour\": 7, \"access_count\": 378}, {\"month\": 4, \"week\": \"Wednesday\", \"hour\": 6, \"access_count\": 241}, {\"month\": 4, \"week\": \"Wednesday\", \"hour\": 5, \"access_count\": 25}, {\"month\": 4, \"week\": \"Wednesday\", \"hour\": 4, \"access_count\": 1}, {\"month\": 4, \"week\": \"Wednesday\", \"hour\": 2, \"access_count\": 1}, {\"month\": 4, \"week\": \"Wednesday\", \"hour\": 1, \"access_count\": 1}, {\"month\": 4, \"week\": \"Thursday\", \"hour\": 23, \"access_count\": 5}, {\"month\": 4, \"week\": \"Thursday\", \"hour\": 22, \"access_count\": 20}, {\"month\": 4, \"week\": \"Thursday\", \"hour\": 21, \"access_count\": 29}, {\"month\": 4, \"week\": \"Thursday\", \"hour\": 20, \"access_count\": 33}, {\"month\": 4, \"week\": \"Thursday\", \"hour\": 19, \"access_count\": 32}, {\"month\": 4, \"week\": \"Thursday\", \"hour\": 18, \"access_count\": 32}, {\"month\": 4, \"week\": \"Thursday\", \"hour\": 17, \"access_count\": 29}, {\"month\": 4, \"week\": \"Thursday\", \"hour\": 16, \"access_count\": 42}, {\"month\": 4, \"week\": \"Thursday\", \"hour\": 15, \"access_count\": 23}, {\"month\": 4, \"week\": \"Thursday\", \"hour\": 14, \"access_count\": 31}, {\"month\": 4, \"week\": \"Thursday\", \"hour\": 13, \"access_count\": 32}, {\"month\": 4, \"week\": \"Thursday\", \"hour\": 12, \"access_count\": 20}, {\"month\": 4, \"week\": \"Thursday\", \"hour\": 11, \"access_count\": 34}, {\"month\": 4, \"week\": \"Thursday\", \"hour\": 10, \"access_count\": 50}, {\"month\": 4, \"week\": \"Thursday\", \"hour\": 9, \"access_count\": 70}, {\"month\": 4, \"week\": \"Thursday\", \"hour\": 8, \"access_count\": 91}, {\"month\": 4, \"week\": \"Thursday\", \"hour\": 7, \"access_count\": 279}, {\"month\": 4, \"week\": \"Thursday\", \"hour\": 6, \"access_count\": 221}, {\"month\": 4, \"week\": \"Thursday\", \"hour\": 5, \"access_count\": 35}, {\"month\": 4, \"week\": \"Thursday\", \"hour\": 4, \"access_count\": 6}, {\"month\": 4, \"week\": \"Thursday\", \"hour\": 3, \"access_count\": 2}, {\"month\": 4, \"week\": \"Thursday\", \"hour\": 2, \"access_count\": 1}, {\"month\": 4, \"week\": \"Thursday\", \"hour\": 1, \"access_count\": 1}, {\"month\": 4, \"week\": \"Thursday\", \"hour\": 0, \"access_count\": 4}, {\"month\": 4, \"week\": \"Sunday\", \"hour\": 23, \"access_count\": 11}, {\"month\": 4, \"week\": \"Sunday\", \"hour\": 22, \"access_count\": 41}, {\"month\": 4, \"week\": \"Sunday\", \"hour\": 21, \"access_count\": 50}, {\"month\": 4, \"week\": \"Sunday\", \"hour\": 20, \"access_count\": 35}, {\"month\": 4, \"week\": \"Sunday\", \"hour\": 19, \"access_count\": 19}, {\"month\": 4, \"week\": \"Sunday\", \"hour\": 18, \"access_count\": 38}, {\"month\": 4, \"week\": \"Sunday\", \"hour\": 17, \"access_count\": 62}, {\"month\": 4, \"week\": \"Sunday\", \"hour\": 16, \"access_count\": 55}, {\"month\": 4, \"week\": \"Sunday\", \"hour\": 15, \"access_count\": 59}, {\"month\": 4, \"week\": \"Sunday\", \"hour\": 14, \"access_count\": 38}, {\"month\": 4, \"week\": \"Sunday\", \"hour\": 13, \"access_count\": 22}, {\"month\": 4, \"week\": \"Sunday\", \"hour\": 12, \"access_count\": 48}, {\"month\": 4, \"week\": \"Sunday\", \"hour\": 11, \"access_count\": 82}, {\"month\": 4, \"week\": \"Sunday\", \"hour\": 10, \"access_count\": 86}, {\"month\": 4, \"week\": \"Sunday\", \"hour\": 9, \"access_count\": 102}, {\"month\": 4, \"week\": \"Sunday\", \"hour\": 8, \"access_count\": 109}, {\"month\": 4, \"week\": \"Sunday\", \"hour\": 7, \"access_count\": 115}, {\"month\": 4, \"week\": \"Sunday\", \"hour\": 6, \"access_count\": 69}, {\"month\": 4, \"week\": \"Sunday\", \"hour\": 5, \"access_count\": 23}, {\"month\": 4, \"week\": \"Sunday\", \"hour\": 4, \"access_count\": 5}, {\"month\": 4, \"week\": \"Sunday\", \"hour\": 3, \"access_count\": 2}, {\"month\": 4, \"week\": \"Sunday\", \"hour\": 2, \"access_count\": 2}, {\"month\": 4, \"week\": \"Sunday\", \"hour\": 0, \"access_count\": 6}, {\"month\": 4, \"week\": \"Saturday\", \"hour\": 23, \"access_count\": 8}, {\"month\": 4, \"week\": \"Saturday\", \"hour\": 22, \"access_count\": 37}, {\"month\": 4, \"week\": \"Saturday\", \"hour\": 21, \"access_count\": 62}, {\"month\": 4, \"week\": \"Saturday\", \"hour\": 20, \"access_count\": 44}, {\"month\": 4, \"week\": \"Saturday\", \"hour\": 19, \"access_count\": 26}, {\"month\": 4, \"week\": \"Saturday\", \"hour\": 18, \"access_count\": 48}, {\"month\": 4, \"week\": \"Saturday\", \"hour\": 17, \"access_count\": 65}, {\"month\": 4, \"week\": \"Saturday\", \"hour\": 16, \"access_count\": 48}, {\"month\": 4, \"week\": \"Saturday\", \"hour\": 15, \"access_count\": 70}, {\"month\": 4, \"week\": \"Saturday\", \"hour\": 14, \"access_count\": 59}, {\"month\": 4, \"week\": \"Saturday\", \"hour\": 13, \"access_count\": 40}, {\"month\": 4, \"week\": \"Saturday\", \"hour\": 12, \"access_count\": 27}, {\"month\": 4, \"week\": \"Saturday\", \"hour\": 11, \"access_count\": 74}, {\"month\": 4, \"week\": \"Saturday\", \"hour\": 10, \"access_count\": 93}, {\"month\": 4, \"week\": \"Saturday\", \"hour\": 9, \"access_count\": 107}, {\"month\": 4, \"week\": \"Saturday\", \"hour\": 8, \"access_count\": 120}, {\"month\": 4, \"week\": \"Saturday\", \"hour\": 7, \"access_count\": 120}, {\"month\": 4, \"week\": \"Saturday\", \"hour\": 6, \"access_count\": 78}, {\"month\": 4, \"week\": \"Saturday\", \"hour\": 5, \"access_count\": 27}, {\"month\": 4, \"week\": \"Saturday\", \"hour\": 4, \"access_count\": 5}, {\"month\": 4, \"week\": \"Saturday\", \"hour\": 2, \"access_count\": 1}, {\"month\": 4, \"week\": \"Saturday\", \"hour\": 0, \"access_count\": 1}, {\"month\": 4, \"week\": \"Monday\", \"hour\": 1, \"access_count\": 1}, {\"month\": 4, \"week\": \"Monday\", \"hour\": 0, \"access_count\": 5}, {\"month\": 4, \"week\": \"Friday\", \"hour\": 23, \"access_count\": 8}, {\"month\": 4, \"week\": \"Friday\", \"hour\": 22, \"access_count\": 25}, {\"month\": 4, \"week\": \"Friday\", \"hour\": 21, \"access_count\": 35}, {\"month\": 4, \"week\": \"Friday\", \"hour\": 20, \"access_count\": 36}, {\"month\": 4, \"week\": \"Friday\", \"hour\": 19, \"access_count\": 31}, {\"month\": 4, \"week\": \"Friday\", \"hour\": 18, \"access_count\": 26}, {\"month\": 4, \"week\": \"Friday\", \"hour\": 17, \"access_count\": 32}, {\"month\": 4, \"week\": \"Friday\", \"hour\": 16, \"access_count\": 32}, {\"month\": 4, \"week\": \"Friday\", \"hour\": 15, \"access_count\": 32}, {\"month\": 4, \"week\": \"Friday\", \"hour\": 14, \"access_count\": 42}, {\"month\": 4, \"week\": \"Friday\", \"hour\": 13, \"access_count\": 30}, {\"month\": 4, \"week\": \"Friday\", \"hour\": 12, \"access_count\": 24}, {\"month\": 4, \"week\": \"Friday\", \"hour\": 11, \"access_count\": 30}, {\"month\": 4, \"week\": \"Friday\", \"hour\": 10, \"access_count\": 65}, {\"month\": 4, \"week\": \"Friday\", \"hour\": 9, \"access_count\": 68}, {\"month\": 4, \"week\": \"Friday\", \"hour\": 8, \"access_count\": 86}, {\"month\": 4, \"week\": \"Friday\", \"hour\": 7, \"access_count\": 381}, {\"month\": 4, \"week\": \"Friday\", \"hour\": 6, \"access_count\": 227}, {\"month\": 4, \"week\": \"Friday\", \"hour\": 5, \"access_count\": 26}, {\"month\": 4, \"week\": \"Friday\", \"hour\": 4, \"access_count\": 3}, {\"month\": 4, \"week\": \"Friday\", \"hour\": 3, \"access_count\": 1}, {\"month\": 4, \"week\": \"Friday\", \"hour\": 0, \"access_count\": 2}, {\"month\": 3, \"week\": \"Wednesday\", \"hour\": 23, \"access_count\": 18}, {\"month\": 3, \"week\": \"Wednesday\", \"hour\": 22, \"access_count\": 51}, {\"month\": 3, \"week\": \"Wednesday\", \"hour\": 21, \"access_count\": 86}, {\"month\": 3, \"week\": \"Wednesday\", \"hour\": 20, \"access_count\": 91}, {\"month\": 3, \"week\": \"Wednesday\", \"hour\": 19, \"access_count\": 111}, {\"month\": 3, \"week\": \"Wednesday\", \"hour\": 18, \"access_count\": 129}, {\"month\": 3, \"week\": \"Wednesday\", \"hour\": 17, \"access_count\": 137}, {\"month\": 3, \"week\": \"Wednesday\", \"hour\": 16, \"access_count\": 102}, {\"month\": 3, \"week\": \"Wednesday\", \"hour\": 15, \"access_count\": 188}, {\"month\": 3, \"week\": \"Wednesday\", \"hour\": 14, \"access_count\": 175}, {\"month\": 3, \"week\": \"Wednesday\", \"hour\": 13, \"access_count\": 96}, {\"month\": 3, \"week\": \"Wednesday\", \"hour\": 12, \"access_count\": 77}, {\"month\": 3, \"week\": \"Wednesday\", \"hour\": 11, \"access_count\": 96}, {\"month\": 3, \"week\": \"Wednesday\", \"hour\": 10, \"access_count\": 188}, {\"month\": 3, \"week\": \"Wednesday\", \"hour\": 9, \"access_count\": 169}, {\"month\": 3, \"week\": \"Wednesday\", \"hour\": 8, \"access_count\": 232}, {\"month\": 3, \"week\": \"Wednesday\", \"hour\": 7, \"access_count\": 232}, {\"month\": 3, \"week\": \"Wednesday\", \"hour\": 6, \"access_count\": 142}, {\"month\": 3, \"week\": \"Wednesday\", \"hour\": 5, \"access_count\": 53}, {\"month\": 3, \"week\": \"Wednesday\", \"hour\": 4, \"access_count\": 12}, {\"month\": 3, \"week\": \"Wednesday\", \"hour\": 3, \"access_count\": 1}, {\"month\": 3, \"week\": \"Wednesday\", \"hour\": 1, \"access_count\": 4}, {\"month\": 3, \"week\": \"Wednesday\", \"hour\": 0, \"access_count\": 8}, {\"month\": 3, \"week\": \"Tuesday\", \"hour\": 23, \"access_count\": 24}, {\"month\": 3, \"week\": \"Tuesday\", \"hour\": 22, \"access_count\": 69}, {\"month\": 3, \"week\": \"Tuesday\", \"hour\": 21, \"access_count\": 97}, {\"month\": 3, \"week\": \"Tuesday\", \"hour\": 20, \"access_count\": 117}, {\"month\": 3, \"week\": \"Tuesday\", \"hour\": 19, \"access_count\": 139}, {\"month\": 3, \"week\": \"Tuesday\", \"hour\": 18, \"access_count\": 175}, {\"month\": 3, \"week\": \"Tuesday\", \"hour\": 17, \"access_count\": 211}, {\"month\": 3, \"week\": \"Tuesday\", \"hour\": 16, \"access_count\": 168}, {\"month\": 3, \"week\": \"Tuesday\", \"hour\": 15, \"access_count\": 217}, {\"month\": 3, \"week\": \"Tuesday\", \"hour\": 14, \"access_count\": 205}, {\"month\": 3, \"week\": \"Tuesday\", \"hour\": 13, \"access_count\": 122}, {\"month\": 3, \"week\": \"Tuesday\", \"hour\": 12, \"access_count\": 85}, {\"month\": 3, \"week\": \"Tuesday\", \"hour\": 11, \"access_count\": 136}, {\"month\": 3, \"week\": \"Tuesday\", \"hour\": 10, \"access_count\": 210}, {\"month\": 3, \"week\": \"Tuesday\", \"hour\": 9, \"access_count\": 273}, {\"month\": 3, \"week\": \"Tuesday\", \"hour\": 8, \"access_count\": 364}, {\"month\": 3, \"week\": \"Tuesday\", \"hour\": 7, \"access_count\": 620}, {\"month\": 3, \"week\": \"Tuesday\", \"hour\": 6, \"access_count\": 296}, {\"month\": 3, \"week\": \"Tuesday\", \"hour\": 5, \"access_count\": 72}, {\"month\": 3, \"week\": \"Tuesday\", \"hour\": 4, \"access_count\": 6}, {\"month\": 3, \"week\": \"Tuesday\", \"hour\": 3, \"access_count\": 1}, {\"month\": 3, \"week\": \"Tuesday\", \"hour\": 2, \"access_count\": 2}, {\"month\": 3, \"week\": \"Tuesday\", \"hour\": 1, \"access_count\": 5}, {\"month\": 3, \"week\": \"Tuesday\", \"hour\": 0, \"access_count\": 6}, {\"month\": 3, \"week\": \"Thursday\", \"hour\": 23, \"access_count\": 15}, {\"month\": 3, \"week\": \"Thursday\", \"hour\": 22, \"access_count\": 52}, {\"month\": 3, \"week\": \"Thursday\", \"hour\": 21, \"access_count\": 80}, {\"month\": 3, \"week\": \"Thursday\", \"hour\": 20, \"access_count\": 97}, {\"month\": 3, \"week\": \"Thursday\", \"hour\": 19, \"access_count\": 126}, {\"month\": 3, \"week\": \"Thursday\", \"hour\": 18, \"access_count\": 105}, {\"month\": 3, \"week\": \"Thursday\", \"hour\": 17, \"access_count\": 108}, {\"month\": 3, \"week\": \"Thursday\", \"hour\": 16, \"access_count\": 100}, {\"month\": 3, \"week\": \"Thursday\", \"hour\": 15, \"access_count\": 107}, {\"month\": 3, \"week\": \"Thursday\", \"hour\": 14, \"access_count\": 126}, {\"month\": 3, \"week\": \"Thursday\", \"hour\": 13, \"access_count\": 105}, {\"month\": 3, \"week\": \"Thursday\", \"hour\": 12, \"access_count\": 64}, {\"month\": 3, \"week\": \"Thursday\", \"hour\": 11, \"access_count\": 108}, {\"month\": 3, \"week\": \"Thursday\", \"hour\": 10, \"access_count\": 179}, {\"month\": 3, \"week\": \"Thursday\", \"hour\": 9, \"access_count\": 198}, {\"month\": 3, \"week\": \"Thursday\", \"hour\": 8, \"access_count\": 251}, {\"month\": 3, \"week\": \"Thursday\", \"hour\": 7, \"access_count\": 292}, {\"month\": 3, \"week\": \"Thursday\", \"hour\": 6, \"access_count\": 203}, {\"month\": 3, \"week\": \"Thursday\", \"hour\": 5, \"access_count\": 72}, {\"month\": 3, \"week\": \"Thursday\", \"hour\": 4, \"access_count\": 19}, {\"month\": 3, \"week\": \"Thursday\", \"hour\": 3, \"access_count\": 1}, {\"month\": 3, \"week\": \"Thursday\", \"hour\": 2, \"access_count\": 4}, {\"month\": 3, \"week\": \"Thursday\", \"hour\": 1, \"access_count\": 8}, {\"month\": 3, \"week\": \"Thursday\", \"hour\": 0, \"access_count\": 9}, {\"month\": 3, \"week\": \"Sunday\", \"hour\": 23, \"access_count\": 75}, {\"month\": 3, \"week\": \"Sunday\", \"hour\": 22, \"access_count\": 181}, {\"month\": 3, \"week\": \"Sunday\", \"hour\": 21, \"access_count\": 232}, {\"month\": 3, \"week\": \"Sunday\", \"hour\": 20, \"access_count\": 160}, {\"month\": 3, \"week\": \"Sunday\", \"hour\": 19, \"access_count\": 110}, {\"month\": 3, \"week\": \"Sunday\", \"hour\": 18, \"access_count\": 202}, {\"month\": 3, \"week\": \"Sunday\", \"hour\": 17, \"access_count\": 247}, {\"month\": 3, \"week\": \"Sunday\", \"hour\": 16, \"access_count\": 145}, {\"month\": 3, \"week\": \"Sunday\", \"hour\": 15, \"access_count\": 234}, {\"month\": 3, \"week\": \"Sunday\", \"hour\": 14, \"access_count\": 231}, {\"month\": 3, \"week\": \"Sunday\", \"hour\": 13, \"access_count\": 109}, {\"month\": 3, \"week\": \"Sunday\", \"hour\": 12, \"access_count\": 120}, {\"month\": 3, \"week\": \"Sunday\", \"hour\": 11, \"access_count\": 283}, {\"month\": 3, \"week\": \"Sunday\", \"hour\": 10, \"access_count\": 454}, {\"month\": 3, \"week\": \"Sunday\", \"hour\": 9, \"access_count\": 402}, {\"month\": 3, \"week\": \"Sunday\", \"hour\": 8, \"access_count\": 461}, {\"month\": 3, \"week\": \"Sunday\", \"hour\": 7, \"access_count\": 433}, {\"month\": 3, \"week\": \"Sunday\", \"hour\": 6, \"access_count\": 262}, {\"month\": 3, \"week\": \"Sunday\", \"hour\": 5, \"access_count\": 84}, {\"month\": 3, \"week\": \"Sunday\", \"hour\": 4, \"access_count\": 30}, {\"month\": 3, \"week\": \"Sunday\", \"hour\": 3, \"access_count\": 6}, {\"month\": 3, \"week\": \"Sunday\", \"hour\": 2, \"access_count\": 3}, {\"month\": 3, \"week\": \"Sunday\", \"hour\": 1, \"access_count\": 4}, {\"month\": 3, \"week\": \"Sunday\", \"hour\": 0, \"access_count\": 25}, {\"month\": 3, \"week\": \"Saturday\", \"hour\": 23, \"access_count\": 47}, {\"month\": 3, \"week\": \"Saturday\", \"hour\": 22, \"access_count\": 124}, {\"month\": 3, \"week\": \"Saturday\", \"hour\": 21, \"access_count\": 204}, {\"month\": 3, \"week\": \"Saturday\", \"hour\": 20, \"access_count\": 142}, {\"month\": 3, \"week\": \"Saturday\", \"hour\": 19, \"access_count\": 102}, {\"month\": 3, \"week\": \"Saturday\", \"hour\": 18, \"access_count\": 170}, {\"month\": 3, \"week\": \"Saturday\", \"hour\": 17, \"access_count\": 225}, {\"month\": 3, \"week\": \"Saturday\", \"hour\": 16, \"access_count\": 153}, {\"month\": 3, \"week\": \"Saturday\", \"hour\": 15, \"access_count\": 223}, {\"month\": 3, \"week\": \"Saturday\", \"hour\": 14, \"access_count\": 206}, {\"month\": 3, \"week\": \"Saturday\", \"hour\": 13, \"access_count\": 126}, {\"month\": 3, \"week\": \"Saturday\", \"hour\": 12, \"access_count\": 87}, {\"month\": 3, \"week\": \"Saturday\", \"hour\": 11, \"access_count\": 210}, {\"month\": 3, \"week\": \"Saturday\", \"hour\": 10, \"access_count\": 346}, {\"month\": 3, \"week\": \"Saturday\", \"hour\": 9, \"access_count\": 358}, {\"month\": 3, \"week\": \"Saturday\", \"hour\": 8, \"access_count\": 389}, {\"month\": 3, \"week\": \"Saturday\", \"hour\": 7, \"access_count\": 314}, {\"month\": 3, \"week\": \"Saturday\", \"hour\": 6, \"access_count\": 258}, {\"month\": 3, \"week\": \"Saturday\", \"hour\": 5, \"access_count\": 63}, {\"month\": 3, \"week\": \"Saturday\", \"hour\": 4, \"access_count\": 19}, {\"month\": 3, \"week\": \"Saturday\", \"hour\": 3, \"access_count\": 2}, {\"month\": 3, \"week\": \"Saturday\", \"hour\": 2, \"access_count\": 1}, {\"month\": 3, \"week\": \"Saturday\", \"hour\": 1, \"access_count\": 5}, {\"month\": 3, \"week\": \"Saturday\", \"hour\": 0, \"access_count\": 7}, {\"month\": 3, \"week\": \"Monday\", \"hour\": 23, \"access_count\": 16}, {\"month\": 3, \"week\": \"Monday\", \"hour\": 22, \"access_count\": 60}, {\"month\": 3, \"week\": \"Monday\", \"hour\": 21, \"access_count\": 105}, {\"month\": 3, \"week\": \"Monday\", \"hour\": 20, \"access_count\": 118}, {\"month\": 3, \"week\": \"Monday\", \"hour\": 19, \"access_count\": 168}, {\"month\": 3, \"week\": \"Monday\", \"hour\": 18, \"access_count\": 141}, {\"month\": 3, \"week\": \"Monday\", \"hour\": 17, \"access_count\": 125}, {\"month\": 3, \"week\": \"Monday\", \"hour\": 16, \"access_count\": 152}, {\"month\": 3, \"week\": \"Monday\", \"hour\": 15, \"access_count\": 109}, {\"month\": 3, \"week\": \"Monday\", \"hour\": 14, \"access_count\": 141}, {\"month\": 3, \"week\": \"Monday\", \"hour\": 13, \"access_count\": 106}, {\"month\": 3, \"week\": \"Monday\", \"hour\": 12, \"access_count\": 88}, {\"month\": 3, \"week\": \"Monday\", \"hour\": 11, \"access_count\": 107}, {\"month\": 3, \"week\": \"Monday\", \"hour\": 10, \"access_count\": 233}, {\"month\": 3, \"week\": \"Monday\", \"hour\": 9, \"access_count\": 245}, {\"month\": 3, \"week\": \"Monday\", \"hour\": 8, \"access_count\": 272}, {\"month\": 3, \"week\": \"Monday\", \"hour\": 7, \"access_count\": 516}, {\"month\": 3, \"week\": \"Monday\", \"hour\": 6, \"access_count\": 422}, {\"month\": 3, \"week\": \"Monday\", \"hour\": 5, \"access_count\": 83}, {\"month\": 3, \"week\": \"Monday\", \"hour\": 4, \"access_count\": 11}, {\"month\": 3, \"week\": \"Monday\", \"hour\": 3, \"access_count\": 1}, {\"month\": 3, \"week\": \"Monday\", \"hour\": 2, \"access_count\": 1}, {\"month\": 3, \"week\": \"Monday\", \"hour\": 1, \"access_count\": 6}, {\"month\": 3, \"week\": \"Monday\", \"hour\": 0, \"access_count\": 22}, {\"month\": 3, \"week\": \"Friday\", \"hour\": 23, \"access_count\": 14}, {\"month\": 3, \"week\": \"Friday\", \"hour\": 22, \"access_count\": 52}, {\"month\": 3, \"week\": \"Friday\", \"hour\": 21, \"access_count\": 84}, {\"month\": 3, \"week\": \"Friday\", \"hour\": 20, \"access_count\": 84}, {\"month\": 3, \"week\": \"Friday\", \"hour\": 19, \"access_count\": 110}, {\"month\": 3, \"week\": \"Friday\", \"hour\": 18, \"access_count\": 100}, {\"month\": 3, \"week\": \"Friday\", \"hour\": 17, \"access_count\": 115}, {\"month\": 3, \"week\": \"Friday\", \"hour\": 16, \"access_count\": 129}, {\"month\": 3, \"week\": \"Friday\", \"hour\": 15, \"access_count\": 114}, {\"month\": 3, \"week\": \"Friday\", \"hour\": 14, \"access_count\": 101}, {\"month\": 3, \"week\": \"Friday\", \"hour\": 13, \"access_count\": 115}, {\"month\": 3, \"week\": \"Friday\", \"hour\": 12, \"access_count\": 71}, {\"month\": 3, \"week\": \"Friday\", \"hour\": 11, \"access_count\": 116}, {\"month\": 3, \"week\": \"Friday\", \"hour\": 10, \"access_count\": 175}, {\"month\": 3, \"week\": \"Friday\", \"hour\": 9, \"access_count\": 213}, {\"month\": 3, \"week\": \"Friday\", \"hour\": 8, \"access_count\": 262}, {\"month\": 3, \"week\": \"Friday\", \"hour\": 7, \"access_count\": 241}, {\"month\": 3, \"week\": \"Friday\", \"hour\": 6, \"access_count\": 192}, {\"month\": 3, \"week\": \"Friday\", \"hour\": 5, \"access_count\": 69}, {\"month\": 3, \"week\": \"Friday\", \"hour\": 4, \"access_count\": 9}, {\"month\": 3, \"week\": \"Friday\", \"hour\": 2, \"access_count\": 2}, {\"month\": 3, \"week\": \"Friday\", \"hour\": 1, \"access_count\": 6}, {\"month\": 3, \"week\": \"Friday\", \"hour\": 0, \"access_count\": 5}, {\"month\": 2, \"week\": \"Wednesday\", \"hour\": 23, \"access_count\": 7}, {\"month\": 2, \"week\": \"Wednesday\", \"hour\": 22, \"access_count\": 15}, {\"month\": 2, \"week\": \"Wednesday\", \"hour\": 21, \"access_count\": 8}, {\"month\": 2, \"week\": \"Wednesday\", \"hour\": 20, \"access_count\": 44}, {\"month\": 2, \"week\": \"Wednesday\", \"hour\": 19, \"access_count\": 78}, {\"month\": 2, \"week\": \"Wednesday\", \"hour\": 18, \"access_count\": 110}, {\"month\": 2, \"week\": \"Wednesday\", \"hour\": 17, \"access_count\": 104}, {\"month\": 2, \"week\": \"Wednesday\", \"hour\": 16, \"access_count\": 117}, {\"month\": 2, \"week\": \"Wednesday\", \"hour\": 15, \"access_count\": 123}, {\"month\": 2, \"week\": \"Wednesday\", \"hour\": 14, \"access_count\": 106}, {\"month\": 2, \"week\": \"Wednesday\", \"hour\": 13, \"access_count\": 63}, {\"month\": 2, \"week\": \"Wednesday\", \"hour\": 12, \"access_count\": 62}, {\"month\": 2, \"week\": \"Wednesday\", \"hour\": 11, \"access_count\": 97}, {\"month\": 2, \"week\": \"Wednesday\", \"hour\": 10, \"access_count\": 135}, {\"month\": 2, \"week\": \"Wednesday\", \"hour\": 9, \"access_count\": 142}, {\"month\": 2, \"week\": \"Wednesday\", \"hour\": 8, \"access_count\": 148}, {\"month\": 2, \"week\": \"Wednesday\", \"hour\": 7, \"access_count\": 115}, {\"month\": 2, \"week\": \"Wednesday\", \"hour\": 6, \"access_count\": 56}, {\"month\": 2, \"week\": \"Wednesday\", \"hour\": 5, \"access_count\": 12}, {\"month\": 2, \"week\": \"Wednesday\", \"hour\": 4, \"access_count\": 3}, {\"month\": 2, \"week\": \"Wednesday\", \"hour\": 2, \"access_count\": 2}, {\"month\": 2, \"week\": \"Wednesday\", \"hour\": 1, \"access_count\": 1}, {\"month\": 2, \"week\": \"Tuesday\", \"hour\": 23, \"access_count\": 5}, {\"month\": 2, \"week\": \"Tuesday\", \"hour\": 22, \"access_count\": 5}, {\"month\": 2, \"week\": \"Tuesday\", \"hour\": 21, \"access_count\": 15}, {\"month\": 2, \"week\": \"Tuesday\", \"hour\": 20, \"access_count\": 33}, {\"month\": 2, \"week\": \"Tuesday\", \"hour\": 19, \"access_count\": 67}, {\"month\": 2, \"week\": \"Tuesday\", \"hour\": 18, \"access_count\": 116}, {\"month\": 2, \"week\": \"Tuesday\", \"hour\": 17, \"access_count\": 99}, {\"month\": 2, \"week\": \"Tuesday\", \"hour\": 16, \"access_count\": 100}, {\"month\": 2, \"week\": \"Tuesday\", \"hour\": 15, \"access_count\": 129}, {\"month\": 2, \"week\": \"Tuesday\", \"hour\": 14, \"access_count\": 103}, {\"month\": 2, \"week\": \"Tuesday\", \"hour\": 13, \"access_count\": 80}, {\"month\": 2, \"week\": \"Tuesday\", \"hour\": 12, \"access_count\": 43}, {\"month\": 2, \"week\": \"Tuesday\", \"hour\": 11, \"access_count\": 71}, {\"month\": 2, \"week\": \"Tuesday\", \"hour\": 10, \"access_count\": 125}, {\"month\": 2, \"week\": \"Tuesday\", \"hour\": 9, \"access_count\": 142}, {\"month\": 2, \"week\": \"Tuesday\", \"hour\": 8, \"access_count\": 172}, {\"month\": 2, \"week\": \"Tuesday\", \"hour\": 7, \"access_count\": 151}, {\"month\": 2, \"week\": \"Tuesday\", \"hour\": 6, \"access_count\": 67}, {\"month\": 2, \"week\": \"Tuesday\", \"hour\": 5, \"access_count\": 18}, {\"month\": 2, \"week\": \"Tuesday\", \"hour\": 4, \"access_count\": 1}, {\"month\": 2, \"week\": \"Tuesday\", \"hour\": 0, \"access_count\": 4}, {\"month\": 2, \"week\": \"Thursday\", \"hour\": 23, \"access_count\": 5}, {\"month\": 2, \"week\": \"Thursday\", \"hour\": 22, \"access_count\": 13}, {\"month\": 2, \"week\": \"Thursday\", \"hour\": 21, \"access_count\": 16}, {\"month\": 2, \"week\": \"Thursday\", \"hour\": 20, \"access_count\": 53}, {\"month\": 2, \"week\": \"Thursday\", \"hour\": 19, \"access_count\": 76}, {\"month\": 2, \"week\": \"Thursday\", \"hour\": 18, \"access_count\": 72}, {\"month\": 2, \"week\": \"Thursday\", \"hour\": 17, \"access_count\": 80}, {\"month\": 2, \"week\": \"Thursday\", \"hour\": 16, \"access_count\": 68}, {\"month\": 2, \"week\": \"Thursday\", \"hour\": 15, \"access_count\": 79}, {\"month\": 2, \"week\": \"Thursday\", \"hour\": 14, \"access_count\": 82}, {\"month\": 2, \"week\": \"Thursday\", \"hour\": 13, \"access_count\": 63}, {\"month\": 2, \"week\": \"Thursday\", \"hour\": 12, \"access_count\": 51}, {\"month\": 2, \"week\": \"Thursday\", \"hour\": 11, \"access_count\": 113}, {\"month\": 2, \"week\": \"Thursday\", \"hour\": 10, \"access_count\": 128}, {\"month\": 2, \"week\": \"Thursday\", \"hour\": 9, \"access_count\": 177}, {\"month\": 2, \"week\": \"Thursday\", \"hour\": 8, \"access_count\": 172}, {\"month\": 2, \"week\": \"Thursday\", \"hour\": 7, \"access_count\": 170}, {\"month\": 2, \"week\": \"Thursday\", \"hour\": 6, \"access_count\": 74}, {\"month\": 2, \"week\": \"Thursday\", \"hour\": 5, \"access_count\": 33}, {\"month\": 2, \"week\": \"Thursday\", \"hour\": 4, \"access_count\": 4}, {\"month\": 2, \"week\": \"Thursday\", \"hour\": 3, \"access_count\": 1}, {\"month\": 2, \"week\": \"Thursday\", \"hour\": 1, \"access_count\": 6}, {\"month\": 2, \"week\": \"Thursday\", \"hour\": 0, \"access_count\": 5}, {\"month\": 2, \"week\": \"Sunday\", \"hour\": 23, \"access_count\": 70}, {\"month\": 2, \"week\": \"Sunday\", \"hour\": 22, \"access_count\": 136}, {\"month\": 2, \"week\": \"Sunday\", \"hour\": 21, \"access_count\": 116}, {\"month\": 2, \"week\": \"Sunday\", \"hour\": 20, \"access_count\": 60}, {\"month\": 2, \"week\": \"Sunday\", \"hour\": 19, \"access_count\": 49}, {\"month\": 2, \"week\": \"Sunday\", \"hour\": 18, \"access_count\": 109}, {\"month\": 2, \"week\": \"Sunday\", \"hour\": 17, \"access_count\": 113}, {\"month\": 2, \"week\": \"Sunday\", \"hour\": 16, \"access_count\": 83}, {\"month\": 2, \"week\": \"Sunday\", \"hour\": 15, \"access_count\": 160}, {\"month\": 2, \"week\": \"Sunday\", \"hour\": 14, \"access_count\": 107}, {\"month\": 2, \"week\": \"Sunday\", \"hour\": 13, \"access_count\": 74}, {\"month\": 2, \"week\": \"Sunday\", \"hour\": 12, \"access_count\": 75}, {\"month\": 2, \"week\": \"Sunday\", \"hour\": 11, \"access_count\": 182}, {\"month\": 2, \"week\": \"Sunday\", \"hour\": 10, \"access_count\": 249}, {\"month\": 2, \"week\": \"Sunday\", \"hour\": 9, \"access_count\": 247}, {\"month\": 2, \"week\": \"Sunday\", \"hour\": 8, \"access_count\": 267}, {\"month\": 2, \"week\": \"Sunday\", \"hour\": 7, \"access_count\": 207}, {\"month\": 2, \"week\": \"Sunday\", \"hour\": 6, \"access_count\": 127}, {\"month\": 2, \"week\": \"Sunday\", \"hour\": 5, \"access_count\": 35}, {\"month\": 2, \"week\": \"Sunday\", \"hour\": 4, \"access_count\": 12}, {\"month\": 2, \"week\": \"Sunday\", \"hour\": 3, \"access_count\": 5}, {\"month\": 2, \"week\": \"Sunday\", \"hour\": 2, \"access_count\": 4}, {\"month\": 2, \"week\": \"Sunday\", \"hour\": 1, \"access_count\": 6}, {\"month\": 2, \"week\": \"Sunday\", \"hour\": 0, \"access_count\": 20}, {\"month\": 2, \"week\": \"Saturday\", \"hour\": 23, \"access_count\": 59}, {\"month\": 2, \"week\": \"Saturday\", \"hour\": 22, \"access_count\": 153}, {\"month\": 2, \"week\": \"Saturday\", \"hour\": 21, \"access_count\": 175}, {\"month\": 2, \"week\": \"Saturday\", \"hour\": 20, \"access_count\": 64}, {\"month\": 2, \"week\": \"Saturday\", \"hour\": 19, \"access_count\": 86}, {\"month\": 2, \"week\": \"Saturday\", \"hour\": 18, \"access_count\": 153}, {\"month\": 2, \"week\": \"Saturday\", \"hour\": 17, \"access_count\": 163}, {\"month\": 2, \"week\": \"Saturday\", \"hour\": 16, \"access_count\": 127}, {\"month\": 2, \"week\": \"Saturday\", \"hour\": 15, \"access_count\": 220}, {\"month\": 2, \"week\": \"Saturday\", \"hour\": 14, \"access_count\": 187}, {\"month\": 2, \"week\": \"Saturday\", \"hour\": 13, \"access_count\": 106}, {\"month\": 2, \"week\": \"Saturday\", \"hour\": 12, \"access_count\": 91}, {\"month\": 2, \"week\": \"Saturday\", \"hour\": 11, \"access_count\": 227}, {\"month\": 2, \"week\": \"Saturday\", \"hour\": 10, \"access_count\": 274}, {\"month\": 2, \"week\": \"Saturday\", \"hour\": 9, \"access_count\": 373}, {\"month\": 2, \"week\": \"Saturday\", \"hour\": 8, \"access_count\": 312}, {\"month\": 2, \"week\": \"Saturday\", \"hour\": 7, \"access_count\": 257}, {\"month\": 2, \"week\": \"Saturday\", \"hour\": 6, \"access_count\": 116}, {\"month\": 2, \"week\": \"Saturday\", \"hour\": 5, \"access_count\": 27}, {\"month\": 2, \"week\": \"Saturday\", \"hour\": 4, \"access_count\": 5}, {\"month\": 2, \"week\": \"Saturday\", \"hour\": 3, \"access_count\": 1}, {\"month\": 2, \"week\": \"Saturday\", \"hour\": 1, \"access_count\": 2}, {\"month\": 2, \"week\": \"Saturday\", \"hour\": 0, \"access_count\": 2}, {\"month\": 2, \"week\": \"Monday\", \"hour\": 23, \"access_count\": 2}, {\"month\": 2, \"week\": \"Monday\", \"hour\": 22, \"access_count\": 16}, {\"month\": 2, \"week\": \"Monday\", \"hour\": 21, \"access_count\": 24}, {\"month\": 2, \"week\": \"Monday\", \"hour\": 20, \"access_count\": 41}, {\"month\": 2, \"week\": \"Monday\", \"hour\": 19, \"access_count\": 78}, {\"month\": 2, \"week\": \"Monday\", \"hour\": 18, \"access_count\": 66}, {\"month\": 2, \"week\": \"Monday\", \"hour\": 17, \"access_count\": 57}, {\"month\": 2, \"week\": \"Monday\", \"hour\": 16, \"access_count\": 71}, {\"month\": 2, \"week\": \"Monday\", \"hour\": 15, \"access_count\": 56}, {\"month\": 2, \"week\": \"Monday\", \"hour\": 14, \"access_count\": 79}, {\"month\": 2, \"week\": \"Monday\", \"hour\": 13, \"access_count\": 56}, {\"month\": 2, \"week\": \"Monday\", \"hour\": 12, \"access_count\": 50}, {\"month\": 2, \"week\": \"Monday\", \"hour\": 11, \"access_count\": 119}, {\"month\": 2, \"week\": \"Monday\", \"hour\": 10, \"access_count\": 127}, {\"month\": 2, \"week\": \"Monday\", \"hour\": 9, \"access_count\": 158}, {\"month\": 2, \"week\": \"Monday\", \"hour\": 8, \"access_count\": 134}, {\"month\": 2, \"week\": \"Monday\", \"hour\": 7, \"access_count\": 156}, {\"month\": 2, \"week\": \"Monday\", \"hour\": 6, \"access_count\": 118}, {\"month\": 2, \"week\": \"Monday\", \"hour\": 5, \"access_count\": 30}, {\"month\": 2, \"week\": \"Monday\", \"hour\": 4, \"access_count\": 7}, {\"month\": 2, \"week\": \"Monday\", \"hour\": 3, \"access_count\": 3}, {\"month\": 2, \"week\": \"Monday\", \"hour\": 2, \"access_count\": 1}, {\"month\": 2, \"week\": \"Monday\", \"hour\": 1, \"access_count\": 4}, {\"month\": 2, \"week\": \"Monday\", \"hour\": 0, \"access_count\": 19}, {\"month\": 2, \"week\": \"Friday\", \"hour\": 23, \"access_count\": 7}, {\"month\": 2, \"week\": \"Friday\", \"hour\": 22, \"access_count\": 10}, {\"month\": 2, \"week\": \"Friday\", \"hour\": 21, \"access_count\": 19}, {\"month\": 2, \"week\": \"Friday\", \"hour\": 20, \"access_count\": 40}, {\"month\": 2, \"week\": \"Friday\", \"hour\": 19, \"access_count\": 70}, {\"month\": 2, \"week\": \"Friday\", \"hour\": 18, \"access_count\": 58}, {\"month\": 2, \"week\": \"Friday\", \"hour\": 17, \"access_count\": 74}, {\"month\": 2, \"week\": \"Friday\", \"hour\": 16, \"access_count\": 99}, {\"month\": 2, \"week\": \"Friday\", \"hour\": 15, \"access_count\": 96}, {\"month\": 2, \"week\": \"Friday\", \"hour\": 14, \"access_count\": 74}, {\"month\": 2, \"week\": \"Friday\", \"hour\": 13, \"access_count\": 66}, {\"month\": 2, \"week\": \"Friday\", \"hour\": 12, \"access_count\": 67}, {\"month\": 2, \"week\": \"Friday\", \"hour\": 11, \"access_count\": 101}, {\"month\": 2, \"week\": \"Friday\", \"hour\": 10, \"access_count\": 138}, {\"month\": 2, \"week\": \"Friday\", \"hour\": 9, \"access_count\": 171}, {\"month\": 2, \"week\": \"Friday\", \"hour\": 8, \"access_count\": 167}, {\"month\": 2, \"week\": \"Friday\", \"hour\": 7, \"access_count\": 128}, {\"month\": 2, \"week\": \"Friday\", \"hour\": 6, \"access_count\": 70}, {\"month\": 2, \"week\": \"Friday\", \"hour\": 5, \"access_count\": 23}, {\"month\": 2, \"week\": \"Friday\", \"hour\": 4, \"access_count\": 8}, {\"month\": 2, \"week\": \"Friday\", \"hour\": 1, \"access_count\": 5}, {\"month\": 2, \"week\": \"Friday\", \"hour\": 0, \"access_count\": 4}, {\"month\": 1, \"week\": \"Wednesday\", \"hour\": 23, \"access_count\": 5}, {\"month\": 1, \"week\": \"Wednesday\", \"hour\": 22, \"access_count\": 8}, {\"month\": 1, \"week\": \"Wednesday\", \"hour\": 21, \"access_count\": 16}, {\"month\": 1, \"week\": \"Wednesday\", \"hour\": 20, \"access_count\": 18}, {\"month\": 1, \"week\": \"Wednesday\", \"hour\": 19, \"access_count\": 42}, {\"month\": 1, \"week\": \"Wednesday\", \"hour\": 18, \"access_count\": 37}, {\"month\": 1, \"week\": \"Wednesday\", \"hour\": 17, \"access_count\": 33}, {\"month\": 1, \"week\": \"Wednesday\", \"hour\": 16, \"access_count\": 51}, {\"month\": 1, \"week\": \"Wednesday\", \"hour\": 15, \"access_count\": 29}, {\"month\": 1, \"week\": \"Wednesday\", \"hour\": 14, \"access_count\": 19}, {\"month\": 1, \"week\": \"Wednesday\", \"hour\": 13, \"access_count\": 16}, {\"month\": 1, \"week\": \"Wednesday\", \"hour\": 12, \"access_count\": 16}, {\"month\": 1, \"week\": \"Wednesday\", \"hour\": 11, \"access_count\": 54}, {\"month\": 1, \"week\": \"Wednesday\", \"hour\": 10, \"access_count\": 57}, {\"month\": 1, \"week\": \"Wednesday\", \"hour\": 9, \"access_count\": 57}, {\"month\": 1, \"week\": \"Wednesday\", \"hour\": 8, \"access_count\": 100}, {\"month\": 1, \"week\": \"Wednesday\", \"hour\": 7, \"access_count\": 77}, {\"month\": 1, \"week\": \"Wednesday\", \"hour\": 6, \"access_count\": 34}, {\"month\": 1, \"week\": \"Wednesday\", \"hour\": 5, \"access_count\": 14}, {\"month\": 1, \"week\": \"Wednesday\", \"hour\": 4, \"access_count\": 2}, {\"month\": 1, \"week\": \"Tuesday\", \"hour\": 23, \"access_count\": 6}, {\"month\": 1, \"week\": \"Tuesday\", \"hour\": 22, \"access_count\": 5}, {\"month\": 1, \"week\": \"Tuesday\", \"hour\": 21, \"access_count\": 3}, {\"month\": 1, \"week\": \"Tuesday\", \"hour\": 20, \"access_count\": 22}, {\"month\": 1, \"week\": \"Tuesday\", \"hour\": 19, \"access_count\": 23}, {\"month\": 1, \"week\": \"Tuesday\", \"hour\": 18, \"access_count\": 35}, {\"month\": 1, \"week\": \"Tuesday\", \"hour\": 17, \"access_count\": 23}, {\"month\": 1, \"week\": \"Tuesday\", \"hour\": 16, \"access_count\": 32}, {\"month\": 1, \"week\": \"Tuesday\", \"hour\": 15, \"access_count\": 40}, {\"month\": 1, \"week\": \"Tuesday\", \"hour\": 14, \"access_count\": 25}, {\"month\": 1, \"week\": \"Tuesday\", \"hour\": 13, \"access_count\": 16}, {\"month\": 1, \"week\": \"Tuesday\", \"hour\": 12, \"access_count\": 11}, {\"month\": 1, \"week\": \"Tuesday\", \"hour\": 11, \"access_count\": 32}, {\"month\": 1, \"week\": \"Tuesday\", \"hour\": 10, \"access_count\": 46}, {\"month\": 1, \"week\": \"Tuesday\", \"hour\": 9, \"access_count\": 80}, {\"month\": 1, \"week\": \"Tuesday\", \"hour\": 8, \"access_count\": 62}, {\"month\": 1, \"week\": \"Tuesday\", \"hour\": 7, \"access_count\": 68}, {\"month\": 1, \"week\": \"Tuesday\", \"hour\": 6, \"access_count\": 49}, {\"month\": 1, \"week\": \"Tuesday\", \"hour\": 5, \"access_count\": 13}, {\"month\": 1, \"week\": \"Tuesday\", \"hour\": 3, \"access_count\": 1}, {\"month\": 1, \"week\": \"Thursday\", \"hour\": 23, \"access_count\": 3}, {\"month\": 1, \"week\": \"Thursday\", \"hour\": 22, \"access_count\": 7}, {\"month\": 1, \"week\": \"Thursday\", \"hour\": 21, \"access_count\": 1}, {\"month\": 1, \"week\": \"Thursday\", \"hour\": 20, \"access_count\": 8}, {\"month\": 1, \"week\": \"Thursday\", \"hour\": 19, \"access_count\": 43}, {\"month\": 1, \"week\": \"Thursday\", \"hour\": 18, \"access_count\": 45}, {\"month\": 1, \"week\": \"Thursday\", \"hour\": 17, \"access_count\": 30}, {\"month\": 1, \"week\": \"Thursday\", \"hour\": 16, \"access_count\": 34}, {\"month\": 1, \"week\": \"Thursday\", \"hour\": 15, \"access_count\": 22}, {\"month\": 1, \"week\": \"Thursday\", \"hour\": 14, \"access_count\": 35}, {\"month\": 1, \"week\": \"Thursday\", \"hour\": 13, \"access_count\": 26}, {\"month\": 1, \"week\": \"Thursday\", \"hour\": 12, \"access_count\": 27}, {\"month\": 1, \"week\": \"Thursday\", \"hour\": 11, \"access_count\": 54}, {\"month\": 1, \"week\": \"Thursday\", \"hour\": 10, \"access_count\": 69}, {\"month\": 1, \"week\": \"Thursday\", \"hour\": 9, \"access_count\": 98}, {\"month\": 1, \"week\": \"Thursday\", \"hour\": 8, \"access_count\": 110}, {\"month\": 1, \"week\": \"Thursday\", \"hour\": 7, \"access_count\": 104}, {\"month\": 1, \"week\": \"Thursday\", \"hour\": 6, \"access_count\": 53}, {\"month\": 1, \"week\": \"Thursday\", \"hour\": 5, \"access_count\": 30}, {\"month\": 1, \"week\": \"Thursday\", \"hour\": 4, \"access_count\": 4}, {\"month\": 1, \"week\": \"Thursday\", \"hour\": 3, \"access_count\": 2}, {\"month\": 1, \"week\": \"Thursday\", \"hour\": 1, \"access_count\": 2}, {\"month\": 1, \"week\": \"Sunday\", \"hour\": 23, \"access_count\": 15}, {\"month\": 1, \"week\": \"Sunday\", \"hour\": 22, \"access_count\": 59}, {\"month\": 1, \"week\": \"Sunday\", \"hour\": 21, \"access_count\": 91}, {\"month\": 1, \"week\": \"Sunday\", \"hour\": 20, \"access_count\": 34}, {\"month\": 1, \"week\": \"Sunday\", \"hour\": 19, \"access_count\": 15}, {\"month\": 1, \"week\": \"Sunday\", \"hour\": 18, \"access_count\": 33}, {\"month\": 1, \"week\": \"Sunday\", \"hour\": 17, \"access_count\": 30}, {\"month\": 1, \"week\": \"Sunday\", \"hour\": 16, \"access_count\": 35}, {\"month\": 1, \"week\": \"Sunday\", \"hour\": 15, \"access_count\": 19}, {\"month\": 1, \"week\": \"Sunday\", \"hour\": 14, \"access_count\": 11}, {\"month\": 1, \"week\": \"Sunday\", \"hour\": 13, \"access_count\": 14}, {\"month\": 1, \"week\": \"Sunday\", \"hour\": 12, \"access_count\": 16}, {\"month\": 1, \"week\": \"Sunday\", \"hour\": 11, \"access_count\": 58}, {\"month\": 1, \"week\": \"Sunday\", \"hour\": 10, \"access_count\": 65}, {\"month\": 1, \"week\": \"Sunday\", \"hour\": 9, \"access_count\": 84}, {\"month\": 1, \"week\": \"Sunday\", \"hour\": 8, \"access_count\": 100}, {\"month\": 1, \"week\": \"Sunday\", \"hour\": 7, \"access_count\": 56}, {\"month\": 1, \"week\": \"Sunday\", \"hour\": 6, \"access_count\": 49}, {\"month\": 1, \"week\": \"Sunday\", \"hour\": 5, \"access_count\": 16}, {\"month\": 1, \"week\": \"Sunday\", \"hour\": 4, \"access_count\": 4}, {\"month\": 1, \"week\": \"Sunday\", \"hour\": 3, \"access_count\": 4}, {\"month\": 1, \"week\": \"Sunday\", \"hour\": 1, \"access_count\": 2}, {\"month\": 1, \"week\": \"Sunday\", \"hour\": 0, \"access_count\": 16}, {\"month\": 1, \"week\": \"Saturday\", \"hour\": 23, \"access_count\": 13}, {\"month\": 1, \"week\": \"Saturday\", \"hour\": 22, \"access_count\": 52}, {\"month\": 1, \"week\": \"Saturday\", \"hour\": 21, \"access_count\": 63}, {\"month\": 1, \"week\": \"Saturday\", \"hour\": 20, \"access_count\": 19}, {\"month\": 1, \"week\": \"Saturday\", \"hour\": 19, \"access_count\": 15}, {\"month\": 1, \"week\": \"Saturday\", \"hour\": 18, \"access_count\": 21}, {\"month\": 1, \"week\": \"Saturday\", \"hour\": 17, \"access_count\": 26}, {\"month\": 1, \"week\": \"Saturday\", \"hour\": 16, \"access_count\": 20}, {\"month\": 1, \"week\": \"Saturday\", \"hour\": 15, \"access_count\": 34}, {\"month\": 1, \"week\": \"Saturday\", \"hour\": 14, \"access_count\": 17}, {\"month\": 1, \"week\": \"Saturday\", \"hour\": 13, \"access_count\": 22}, {\"month\": 1, \"week\": \"Saturday\", \"hour\": 12, \"access_count\": 21}, {\"month\": 1, \"week\": \"Saturday\", \"hour\": 11, \"access_count\": 36}, {\"month\": 1, \"week\": \"Saturday\", \"hour\": 10, \"access_count\": 50}, {\"month\": 1, \"week\": \"Saturday\", \"hour\": 9, \"access_count\": 71}, {\"month\": 1, \"week\": \"Saturday\", \"hour\": 8, \"access_count\": 86}, {\"month\": 1, \"week\": \"Saturday\", \"hour\": 7, \"access_count\": 75}, {\"month\": 1, \"week\": \"Saturday\", \"hour\": 6, \"access_count\": 45}, {\"month\": 1, \"week\": \"Saturday\", \"hour\": 5, \"access_count\": 8}, {\"month\": 1, \"week\": \"Saturday\", \"hour\": 3, \"access_count\": 1}, {\"month\": 1, \"week\": \"Saturday\", \"hour\": 0, \"access_count\": 1}, {\"month\": 1, \"week\": \"Monday\", \"hour\": 23, \"access_count\": 4}, {\"month\": 1, \"week\": \"Monday\", \"hour\": 22, \"access_count\": 6}, {\"month\": 1, \"week\": \"Monday\", \"hour\": 21, \"access_count\": 7}, {\"month\": 1, \"week\": \"Monday\", \"hour\": 20, \"access_count\": 7}, {\"month\": 1, \"week\": \"Monday\", \"hour\": 19, \"access_count\": 32}, {\"month\": 1, \"week\": \"Monday\", \"hour\": 18, \"access_count\": 30}, {\"month\": 1, \"week\": \"Monday\", \"hour\": 17, \"access_count\": 18}, {\"month\": 1, \"week\": \"Monday\", \"hour\": 16, \"access_count\": 28}, {\"month\": 1, \"week\": \"Monday\", \"hour\": 15, \"access_count\": 22}, {\"month\": 1, \"week\": \"Monday\", \"hour\": 14, \"access_count\": 28}, {\"month\": 1, \"week\": \"Monday\", \"hour\": 13, \"access_count\": 5}, {\"month\": 1, \"week\": \"Monday\", \"hour\": 12, \"access_count\": 11}, {\"month\": 1, \"week\": \"Monday\", \"hour\": 11, \"access_count\": 50}, {\"month\": 1, \"week\": \"Monday\", \"hour\": 10, \"access_count\": 32}, {\"month\": 1, \"week\": \"Monday\", \"hour\": 9, \"access_count\": 66}, {\"month\": 1, \"week\": \"Monday\", \"hour\": 8, \"access_count\": 73}, {\"month\": 1, \"week\": \"Monday\", \"hour\": 7, \"access_count\": 73}, {\"month\": 1, \"week\": \"Monday\", \"hour\": 6, \"access_count\": 53}, {\"month\": 1, \"week\": \"Monday\", \"hour\": 5, \"access_count\": 19}, {\"month\": 1, \"week\": \"Monday\", \"hour\": 4, \"access_count\": 2}, {\"month\": 1, \"week\": \"Monday\", \"hour\": 3, \"access_count\": 1}, {\"month\": 1, \"week\": \"Monday\", \"hour\": 2, \"access_count\": 2}, {\"month\": 1, \"week\": \"Monday\", \"hour\": 0, \"access_count\": 10}, {\"month\": 1, \"week\": \"Friday\", \"hour\": 23, \"access_count\": 4}, {\"month\": 1, \"week\": \"Friday\", \"hour\": 22, \"access_count\": 4}, {\"month\": 1, \"week\": \"Friday\", \"hour\": 21, \"access_count\": 11}, {\"month\": 1, \"week\": \"Friday\", \"hour\": 20, \"access_count\": 17}, {\"month\": 1, \"week\": \"Friday\", \"hour\": 19, \"access_count\": 22}, {\"month\": 1, \"week\": \"Friday\", \"hour\": 18, \"access_count\": 34}, {\"month\": 1, \"week\": \"Friday\", \"hour\": 17, \"access_count\": 28}, {\"month\": 1, \"week\": \"Friday\", \"hour\": 16, \"access_count\": 31}, {\"month\": 1, \"week\": \"Friday\", \"hour\": 15, \"access_count\": 36}, {\"month\": 1, \"week\": \"Friday\", \"hour\": 14, \"access_count\": 26}, {\"month\": 1, \"week\": \"Friday\", \"hour\": 13, \"access_count\": 19}, {\"month\": 1, \"week\": \"Friday\", \"hour\": 12, \"access_count\": 20}, {\"month\": 1, \"week\": \"Friday\", \"hour\": 11, \"access_count\": 82}, {\"month\": 1, \"week\": \"Friday\", \"hour\": 10, \"access_count\": 65}, {\"month\": 1, \"week\": \"Friday\", \"hour\": 9, \"access_count\": 92}, {\"month\": 1, \"week\": \"Friday\", \"hour\": 8, \"access_count\": 105}, {\"month\": 1, \"week\": \"Friday\", \"hour\": 7, \"access_count\": 84}, {\"month\": 1, \"week\": \"Friday\", \"hour\": 6, \"access_count\": 47}, {\"month\": 1, \"week\": \"Friday\", \"hour\": 5, \"access_count\": 23}, {\"month\": 1, \"week\": \"Friday\", \"hour\": 4, \"access_count\": 7}, {\"month\": 1, \"week\": \"Friday\", \"hour\": 1, \"access_count\": 1}, {\"month\": 1, \"week\": \"Friday\", \"hour\": 0, \"access_count\": 5}]}}, {\"mode\": \"vega-lite\"});\n",
       "</script>"
      ],
      "text/plain": [
       "alt.Chart(...)"
      ]
     },
     "execution_count": 7,
     "metadata": {},
     "output_type": "execute_result"
    }
   ],
   "source": [
    "base0=alt.Chart(access_data).mark_line(point=True,color=\"red\").encode(\n",
    "    x='hour',\n",
    "    y='access_count',\n",
    "    color= 'week:N',\n",
    "    column='month'\n",
    ").properties(\n",
    "    width=800\n",
    ")\n",
    "base0"
   ]
  },
  {
   "cell_type": "markdown",
   "metadata": {},
   "source": [
    "### python pandas处理数据"
   ]
  },
  {
   "cell_type": "code",
   "execution_count": 8,
   "metadata": {},
   "outputs": [],
   "source": [
    "student_access_time_sql = '''select svm.enter_time as enter_time from schedule_virtualclass_member svm \n",
    "where svm.start_time>'2019-12-31 16:00:00' and svm.enter_time is not null'''\n",
    "\n",
    "student_access_time_data = data_out_sql(student_access_time_sql)"
   ]
  },
  {
   "cell_type": "code",
   "execution_count": 9,
   "metadata": {},
   "outputs": [],
   "source": [
    "tutor_salary_sql = '''select date_format(CONVERT_TZ(cvi.start_time,'+00:00','+08:00'), '%Y%m') as date, uti.username, uti.real_name,uti.identity_name, cvi.tutor_user_id, sum(virtualclass_amount.class_amount), count(virtualclass_amount.class_amount), virtualclass_amount.class_amount from\n",
    "(select sum(amount) as class_amount, reference from finance_balance_change where reason in (7,8, 113, 114)\n",
    "group by reference) virtualclass_amount\n",
    "left join classroom_virtualclass_info cvi on cvi.id=virtualclass_amount.reference\n",
    "left join user_tutor_info uti on uti.id=cvi.tutor_user_id\n",
    "where date_format(CONVERT_TZ(cvi.start_time,'+00:00','+08:00'), '%Y%m') in ('202001', '202002', '202003')\n",
    "group by date_format(CONVERT_TZ(cvi.start_time,'+00:00','+08:00'), '%Y%m'), cvi.tutor_user_id, virtualclass_amount.class_amount\n",
    "order by date_format(CONVERT_TZ(cvi.start_time,'+00:00','+08:00'), '%Y%m')  desc'''\n",
    "tutor_salary = data_out_sql(tutor_salary_sql)"
   ]
  },
  {
   "cell_type": "code",
   "execution_count": null,
   "metadata": {},
   "outputs": [],
   "source": [
    "data_to_csv(tutor_salary,'tutor_salary_detail')"
   ]
  },
  {
   "cell_type": "code",
   "execution_count": null,
   "metadata": {},
   "outputs": [],
   "source": []
  }
 ],
 "metadata": {
  "kernelspec": {
   "display_name": "Python 3",
   "language": "python",
   "name": "python3"
  },
  "language_info": {
   "codemirror_mode": {
    "name": "ipython",
    "version": 3
   },
   "file_extension": ".py",
   "mimetype": "text/x-python",
   "name": "python",
   "nbconvert_exporter": "python",
   "pygments_lexer": "ipython3",
   "version": "3.7.5"
  }
 },
 "nbformat": 4,
 "nbformat_minor": 4
}
