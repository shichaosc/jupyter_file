{
 "cells": [
  {
   "cell_type": "markdown",
   "metadata": {},
   "source": [
    "# 学生上课分布图"
   ]
  },
  {
   "cell_type": "code",
   "execution_count": 14,
   "metadata": {},
   "outputs": [],
   "source": [
    "import pymysql\n",
    "import pandas as pd\n",
    "from datetime import datetime"
   ]
  },
  {
   "cell_type": "code",
   "execution_count": 15,
   "metadata": {},
   "outputs": [],
   "source": [
    "def data_out_sql(sql):\n",
    "    #conn = pymysql.connect(host=DB['host'], port=DB['port'], user=DB['user'], passwd=DB['password'], db=DB['dbname'],charset='utf8')\n",
    "#     conn = pymysql.connect(user='lingoace', password='DB4lingo.com', database='data_analysis')\n",
    "    # 使用异步连接mysql\n",
    "    conn = pymysql.connect(user='lingoace', password='DB4lingo.com', database='lingoacedb_snapshot', host='192.168.3.237')\n",
    "\n",
    "    # 创建游标\n",
    "    cursor = conn.cursor()\n",
    "    # 执行sql语句\n",
    "    try:\n",
    "        cursor.execute(sql)\n",
    "        # 调出数据\n",
    "        data = cursor.fetchall()\n",
    "    # cols为字段信息 例如(('factory_id', 253, None, 6, 6, 0, False), ('szDeviceId', 253, None, 30, 30, 0, False),('update_time', 7, None, 19, 19, 0, False))\n",
    "    except Exception as e:\n",
    "        print('select sql error, err={}'.format(e))\n",
    "\n",
    "        # 执行\n",
    "    conn.commit()\n",
    "    conn.close()\n",
    "    # 将数据truple转换为DataFrame\n",
    "    col = []\n",
    "    for i in cols:\n",
    "        col.append(i[0])\n",
    "    data = list(map(list, data))\n",
    "    data = pd.DataFrame(data,columns=col)\n",
    "\n",
    "    #print(data)\n",
    "    return data\n",
    "    "
   ]
  },
  {
   "cell_type": "code",
   "execution_count": 16,
   "metadata": {},
   "outputs": [],
   "source": [
    "#常用数据存放目录\n",
    "catelog='./data/'\n",
    "#临时数据存放目录\n",
    "tempData='./temp/'\n",
    "#数据库数据数据定义\n",
    "Database='lingoacedb'\n",
    "\n",
    "def data_to_csv(df, name):\n",
    "    \n",
    "    catelog='./data/'\n",
    "\n",
    "    name_suffix = datetime.now().strftime('%Y%m%d')\n",
    "    \n",
    "    df.to_csv('%s%s%s.csv' % (catelog, name, name_suffix), encoding='utf_8_sig')"
   ]
  },
  {
   "cell_type": "code",
   "execution_count": 19,
   "metadata": {},
   "outputs": [],
   "source": [
    "virtualclass_count_sql='''select MONTH(CONVERT_TZ(cvi.start_time,'+00:00','+08:00')) as months, DAYOFWEEK(CONVERT_TZ(cvi.start_time,'+00:00','+08:00')) as weeks, HOUR(CONVERT_TZ(cvi.start_time,'+00:00','+08:00')) as hours, count(*) from classroom_virtualclass_info cvi \n",
    "where cvi.start_time>='2020-06-30 16:00:00' and cvi.status=3\n",
    "group by months, weeks, hours'''"
   ]
  },
  {
   "cell_type": "code",
   "execution_count": 20,
   "metadata": {},
   "outputs": [
    {
     "ename": "NameError",
     "evalue": "name 'cols' is not defined",
     "output_type": "error",
     "traceback": [
      "\u001b[0;31m---------------------------------------------------------------------------\u001b[0m",
      "\u001b[0;31mNameError\u001b[0m                                 Traceback (most recent call last)",
      "\u001b[0;32m<ipython-input-20-adc393cd1db6>\u001b[0m in \u001b[0;36m<module>\u001b[0;34m\u001b[0m\n\u001b[0;32m----> 1\u001b[0;31m \u001b[0mvirtualclass_count\u001b[0m \u001b[0;34m=\u001b[0m \u001b[0mdata_out_sql\u001b[0m\u001b[0;34m(\u001b[0m\u001b[0mvirtualclass_count_sql\u001b[0m\u001b[0;34m)\u001b[0m\u001b[0;34m\u001b[0m\u001b[0;34m\u001b[0m\u001b[0m\n\u001b[0m\u001b[1;32m      2\u001b[0m \u001b[0mvirtualclass_count\u001b[0m\u001b[0;34m.\u001b[0m\u001b[0mhead\u001b[0m\u001b[0;34m(\u001b[0m\u001b[0;34m)\u001b[0m\u001b[0;34m\u001b[0m\u001b[0;34m\u001b[0m\u001b[0m\n",
      "\u001b[0;32m<ipython-input-15-28abaedbef25>\u001b[0m in \u001b[0;36mdata_out_sql\u001b[0;34m(sql)\u001b[0m\n\u001b[1;32m     21\u001b[0m     \u001b[0;31m# 将数据truple转换为DataFrame\u001b[0m\u001b[0;34m\u001b[0m\u001b[0;34m\u001b[0m\u001b[0;34m\u001b[0m\u001b[0m\n\u001b[1;32m     22\u001b[0m     \u001b[0mcol\u001b[0m \u001b[0;34m=\u001b[0m \u001b[0;34m[\u001b[0m\u001b[0;34m]\u001b[0m\u001b[0;34m\u001b[0m\u001b[0;34m\u001b[0m\u001b[0m\n\u001b[0;32m---> 23\u001b[0;31m     \u001b[0;32mfor\u001b[0m \u001b[0mi\u001b[0m \u001b[0;32min\u001b[0m \u001b[0mcols\u001b[0m\u001b[0;34m:\u001b[0m\u001b[0;34m\u001b[0m\u001b[0;34m\u001b[0m\u001b[0m\n\u001b[0m\u001b[1;32m     24\u001b[0m         \u001b[0mcol\u001b[0m\u001b[0;34m.\u001b[0m\u001b[0mappend\u001b[0m\u001b[0;34m(\u001b[0m\u001b[0mi\u001b[0m\u001b[0;34m[\u001b[0m\u001b[0;36m0\u001b[0m\u001b[0;34m]\u001b[0m\u001b[0;34m)\u001b[0m\u001b[0;34m\u001b[0m\u001b[0;34m\u001b[0m\u001b[0m\n\u001b[1;32m     25\u001b[0m     \u001b[0mdata\u001b[0m \u001b[0;34m=\u001b[0m \u001b[0mlist\u001b[0m\u001b[0;34m(\u001b[0m\u001b[0mmap\u001b[0m\u001b[0;34m(\u001b[0m\u001b[0mlist\u001b[0m\u001b[0;34m,\u001b[0m \u001b[0mdata\u001b[0m\u001b[0;34m)\u001b[0m\u001b[0;34m)\u001b[0m\u001b[0;34m\u001b[0m\u001b[0;34m\u001b[0m\u001b[0m\n",
      "\u001b[0;31mNameError\u001b[0m: name 'cols' is not defined"
     ]
    }
   ],
   "source": [
    "virtualclass_count = data_out_sql(virtualclass_count_sql)\n",
    "virtualclass_count.head()"
   ]
  },
  {
   "cell_type": "code",
   "execution_count": null,
   "metadata": {},
   "outputs": [],
   "source": []
  }
 ],
 "metadata": {
  "kernelspec": {
   "display_name": "Python 3",
   "language": "python",
   "name": "python3"
  },
  "language_info": {
   "codemirror_mode": {
    "name": "ipython",
    "version": 3
   },
   "file_extension": ".py",
   "mimetype": "text/x-python",
   "name": "python",
   "nbconvert_exporter": "python",
   "pygments_lexer": "ipython3",
   "version": "3.7.5"
  }
 },
 "nbformat": 4,
 "nbformat_minor": 4
}
