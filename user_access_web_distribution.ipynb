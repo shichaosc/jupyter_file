{
 "cells": [
  {
   "cell_type": "markdown",
   "metadata": {},
   "source": [
    "## 上课时间分布"
   ]
  },
  {
   "cell_type": "markdown",
   "metadata": {},
   "source": [
    "### 导入需要的包"
   ]
  },
  {
   "cell_type": "code",
   "execution_count": 1,
   "metadata": {},
   "outputs": [],
   "source": [
    "import pymysql\n",
    "import pandas as pd\n",
    "from datetime import datetime"
   ]
  },
  {
   "cell_type": "markdown",
   "metadata": {},
   "source": [
    "### 连接数据库"
   ]
  },
  {
   "cell_type": "code",
   "execution_count": 2,
   "metadata": {},
   "outputs": [],
   "source": [
    "def data_out_sql(sql):\n",
    "    #conn = pymysql.connect(host=DB['host'], port=DB['port'], user=DB['user'], passwd=DB['password'], db=DB['dbname'],charset='utf8')\n",
    "#     conn = pymysql.connect(user='lingoace', password='DB4lingo.com', database='data_analysis')\n",
    "    # 使用异步连接mysql\n",
    "    conn = pymysql.connect(user='lingoace', password='DB4lingo.com', database='lingoacedb_snapshot', host='192.168.3.237')\n",
    "\n",
    "    # 创建游标\n",
    "    cursor = conn.cursor()\n",
    "    # 执行sql语句\n",
    "    try:\n",
    "        cursor.execute(sql)\n",
    "        # 调出数据\n",
    "        data = cursor.fetchall()\n",
    "    # cols为字段信息 例如(('factory_id', 253, None, 6, 6, 0, False), ('szDeviceId', 253, None, 30, 30, 0, False),('update_time', 7, None, 19, 19, 0, False))\n",
    "    except Exception as e:\n",
    "        print('select sql error, err={}'.format(e))\n",
    "    cols = cursor.description\n",
    "    # 执行\n",
    "    conn.commit()\n",
    "    conn.close()\n",
    "    # 将数据truple转换为DataFrame\n",
    "    col = []\n",
    "    for i in cols:\n",
    "        col.append(i[0])\n",
    "    data = list(map(list, data))\n",
    "    data = pd.DataFrame(data,columns=col)\n",
    "\n",
    "    #print(data)\n",
    "    return data"
   ]
  },
  {
   "cell_type": "markdown",
   "metadata": {},
   "source": [
    "### 数据转储cvs配置"
   ]
  },
  {
   "cell_type": "code",
   "execution_count": 3,
   "metadata": {},
   "outputs": [],
   "source": [
    "#常用数据存放目录\n",
    "catelog='./data/'\n",
    "#临时数据存放目录\n",
    "tempData='./temp/'\n",
    "#数据库数据数据定义\n",
    "Database='lingoacedb'\n",
    "\n",
    "def data_to_csv(df, name):\n",
    "    \n",
    "    catelog='./data/'\n",
    "\n",
    "    name_suffix = datetime.now().strftime('%Y%m%d')\n",
    "    \n",
    "    df.to_csv('%s%s%s.csv' % (catelog, name, name_suffix), encoding='utf_8_sig')\n",
    "    "
   ]
  },
  {
   "cell_type": "code",
   "execution_count": null,
   "metadata": {},
   "outputs": [],
   "source": [
    "user_enter_class_sql = '''select \n",
    "    MONTH(CONVERT_TZ(svm.enter_time, '+00:00', '+08:00')) as month, \n",
    "    DATE_FORMAT(CONVERT_TZ(svm.enter_time, '+00:00', '+08:00'), '%W') as week, \n",
    "    HOUR(CONVERT_TZ(svm.enter_time, '+00:00', '+08:00')) as hour, \n",
    "    count(*) as access_count\n",
    "from schedule_virtualclass_member svm \n",
    "left join classroom_virtualclass_info cvi on cvi.id=svm.virtual_class_id\n",
    "where cvi.class_type_id<>3 and \n",
    "svm.enter_time is not null and YEAR(CONVERT_TZ(svm.enter_time, '+00:00', '+08:00'))=2020\n",
    "group by DATE_FORMAT(CONVERT_TZ(svm.enter_time, '+00:00', '+08:00'), '%W'), \n",
    "         HOUR(CONVERT_TZ(svm.enter_time, '+00:00', '+08:00')), \n",
    "         MONTH(CONVERT_TZ(svm.enter_time, '+00:00', '+08:00'))\n",
    "order by  MONTH(CONVERT_TZ(svm.enter_time, '+00:00', '+08:00')) desc, \n",
    "          DATE_FORMAT(CONVERT_TZ(svm.enter_time, '+00:00', '+08:00'), '%W') desc, \n",
    "          HOUR(CONVERT_TZ(svm.enter_time, '+00:00', '+08:00')) desc'''\n",
    "access_data= data_out_sql(user_enter_class_sql)\n",
    "# access_data.describe()\n",
    "data_to_csv(access_data,'useraccess')\n",
    "access_data.head()"
   ]
  },
  {
   "cell_type": "markdown",
   "metadata": {},
   "source": [
    "### 数据可视化"
   ]
  },
  {
   "cell_type": "code",
   "execution_count": null,
   "metadata": {},
   "outputs": [],
   "source": [
    "import altair as alt"
   ]
  },
  {
   "cell_type": "code",
   "execution_count": null,
   "metadata": {},
   "outputs": [],
   "source": [
    "base0=alt.Chart(access_data).mark_line(point=True,color=\"red\").encode(\n",
    "    x='hour',\n",
    "    y='access_count',\n",
    "    color= 'week:N',\n",
    "    column='month'\n",
    ").properties(\n",
    "    width=800\n",
    ")\n",
    "base0"
   ]
  },
  {
   "cell_type": "markdown",
   "metadata": {},
   "source": [
    "### python pandas处理数据"
   ]
  },
  {
   "cell_type": "code",
   "execution_count": null,
   "metadata": {},
   "outputs": [],
   "source": [
    "student_access_time_sql = '''select svm.enter_time as enter_time from schedule_virtualclass_member svm \n",
    "where svm.start_time>'2019-12-31 16:00:00' and svm.enter_time is not null'''\n",
    "\n",
    "student_access_time_data = data_out_sql(student_access_time_sql)"
   ]
  },
  {
   "cell_type": "code",
   "execution_count": null,
   "metadata": {},
   "outputs": [],
   "source": [
    "tutor_salary_sql = '''select date_format(CONVERT_TZ(cvi.start_time,'+00:00','+08:00'), '%Y%m') as date, uti.username, uti.real_name,uti.identity_name, cvi.tutor_user_id, sum(virtualclass_amount.class_amount), count(virtualclass_amount.class_amount), virtualclass_amount.class_amount from\n",
    "(select sum(amount) as class_amount, reference from finance_balance_change where reason in (7,8, 113, 114)\n",
    "group by reference) virtualclass_amount\n",
    "left join classroom_virtualclass_info cvi on cvi.id=virtualclass_amount.reference\n",
    "left join user_tutor_info uti on uti.id=cvi.tutor_user_id\n",
    "where date_format(CONVERT_TZ(cvi.start_time,'+00:00','+08:00'), '%Y%m') in ('202001', '202002', '202003')\n",
    "group by date_format(CONVERT_TZ(cvi.start_time,'+00:00','+08:00'), '%Y%m'), cvi.tutor_user_id, virtualclass_amount.class_amount\n",
    "order by date_format(CONVERT_TZ(cvi.start_time,'+00:00','+08:00'), '%Y%m')  desc'''\n",
    "tutor_salary = data_out_sql(tutor_salary_sql)"
   ]
  },
  {
   "cell_type": "code",
   "execution_count": null,
   "metadata": {},
   "outputs": [],
   "source": [
    "data_to_csv(tutor_salary,'tutor_salary_detail')"
   ]
  },
  {
   "cell_type": "code",
   "execution_count": null,
   "metadata": {},
   "outputs": [],
   "source": []
  }
 ],
 "metadata": {
  "kernelspec": {
   "display_name": "Python 3",
   "language": "python",
   "name": "python3"
  },
  "language_info": {
   "codemirror_mode": {
    "name": "ipython",
    "version": 3
   },
   "file_extension": ".py",
   "mimetype": "text/x-python",
   "name": "python",
   "nbconvert_exporter": "python",
   "pygments_lexer": "ipython3",
   "version": "3.7.5"
  }
 },
 "nbformat": 4,
 "nbformat_minor": 4
}
